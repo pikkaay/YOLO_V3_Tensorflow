{
 "cells": [
  {
   "cell_type": "code",
   "execution_count": 73,
   "metadata": {
    "collapsed": true
   },
   "outputs": [],
   "source": [
    "import os\n",
    "import glob\n",
    "import pandas as pd\n",
    "import xml.etree.ElementTree as ET\n",
    "import numpy as np"
   ]
  },
  {
   "cell_type": "code",
   "execution_count": null,
   "metadata": {
    "collapsed": true
   },
   "outputs": [],
   "source": []
  },
  {
   "cell_type": "code",
   "execution_count": 163,
   "metadata": {
    "collapsed": true
   },
   "outputs": [],
   "source": [
    "labels = ['macncheese']"
   ]
  },
  {
   "cell_type": "code",
   "execution_count": 164,
   "metadata": {
    "collapsed": true
   },
   "outputs": [],
   "source": [
    "imPath = '../SSD/images/im.xml'"
   ]
  },
  {
   "cell_type": "code",
   "execution_count": 218,
   "metadata": {},
   "outputs": [],
   "source": [
    "xml_list = []\n",
    "line = []\n",
    "tree = ET.parse(imPath)\n",
    "root = tree.getroot()\n",
    "for member in root.findall('object'):\n",
    "    label = labels.index(member[0].text)\n",
    "    line.append((imPath.rsplit( \".\", 1 )[ 0 ]+'.jpg',\n",
    "             round(int(member[4][0].text)/int(root.find('size')[0].text),2),\n",
    "             round(int(member[4][1].text)/int(root.find('size')[1].text),2),\n",
    "             round(int(member[4][2].text)/int(root.find('size')[0].text),2),\n",
    "             round(int(member[4][3].text)/int(root.find('size')[1].text),2),\n",
    "             label\n",
    "                ))\n",
    "with open(\"Output.txt\", \"a\") as file:\n",
    "    for i in line:\n",
    "        file.write(', '.join(map(str, i)).replace(\" \", \"\"))\n",
    "        file.write(' ')\n",
    "    file.write(' \\n')"
   ]
  },
  {
   "cell_type": "code",
   "execution_count": 219,
   "metadata": {},
   "outputs": [],
   "source": [
    "lines = open('Output.txt').readlines()\n",
    "# open('Output.txt', 'w').writelines(lines[:-1])"
   ]
  },
  {
   "cell_type": "code",
   "execution_count": 220,
   "metadata": {},
   "outputs": [
    {
     "data": {
      "text/plain": [
       "['../SSD/images/im.jpg,0.14,0.11,0.85,0.64,0 ../SSD/images/im.jpg,0.01,0.11,0.85,0.64,0  \\n',\n",
       " '../SSD/images/im.jpg,0.14,0.11,0.85,0.64,0 ../SSD/images/im.jpg,0.01,0.11,0.85,0.64,0  \\n',\n",
       " '../SSD/images/im.jpg,0.14,0.11,0.85,0.64,0 ../SSD/images/im.jpg,0.01,0.11,0.85,0.64,0  \\n']"
      ]
     },
     "execution_count": 220,
     "metadata": {},
     "output_type": "execute_result"
    }
   ],
   "source": [
    "lines"
   ]
  },
  {
   "cell_type": "code",
   "execution_count": null,
   "metadata": {
    "collapsed": true
   },
   "outputs": [],
   "source": []
  },
  {
   "cell_type": "code",
   "execution_count": 207,
   "metadata": {
    "collapsed": true
   },
   "outputs": [],
   "source": [
    "with open(\"Output.txt\", \"a\") as file:    \n",
    "    file.truncate(file.tell()-1)"
   ]
  },
  {
   "cell_type": "code",
   "execution_count": null,
   "metadata": {
    "collapsed": true
   },
   "outputs": [],
   "source": []
  },
  {
   "cell_type": "code",
   "execution_count": 162,
   "metadata": {},
   "outputs": [],
   "source": [
    "with open(\"Output.txt\", \"w\") as file:\n",
    "    for i in line:\n",
    "        file.write(', '.join(map(str, i)).replace(\" \", \"\"))\n",
    "        file.write(' ')\n",
    "    file.write(' \\n')"
   ]
  },
  {
   "cell_type": "code",
   "execution_count": 148,
   "metadata": {},
   "outputs": [
    {
     "data": {
      "text/plain": [
       "'./../SSD/images/im.jpg, 86, 50, 518, 294, macncheese'"
      ]
     },
     "execution_count": 148,
     "metadata": {},
     "output_type": "execute_result"
    }
   ],
   "source": [
    "', '.join(map(str, list(line[0])))"
   ]
  },
  {
   "cell_type": "code",
   "execution_count": 100,
   "metadata": {},
   "outputs": [
    {
     "data": {
      "text/plain": [
       "[['./../SSD/images/im.jpg', 86, 50, 518, 294, 'macncheese'],\n",
       " ['./../SSD/images/im.jpg', 8, 50, 518, 294, 'macncheese']]"
      ]
     },
     "execution_count": 100,
     "metadata": {},
     "output_type": "execute_result"
    }
   ],
   "source": [
    "k"
   ]
  },
  {
   "cell_type": "code",
   "execution_count": 158,
   "metadata": {
    "collapsed": true
   },
   "outputs": [],
   "source": [
    "labels = ['a', 'b']"
   ]
  },
  {
   "cell_type": "code",
   "execution_count": 168,
   "metadata": {},
   "outputs": [
    {
     "data": {
      "text/plain": [
       "0.12"
      ]
     },
     "execution_count": 168,
     "metadata": {},
     "output_type": "execute_result"
    }
   ],
   "source": [
    "round(0.123123123, 2)"
   ]
  },
  {
   "cell_type": "code",
   "execution_count": null,
   "metadata": {
    "collapsed": true
   },
   "outputs": [],
   "source": [
    "def main():\n",
    "    for directory in ['train', 'test']:\n",
    "        image_path = os.path.join(os.getcwd(), 'images/{}'.format(directory))\n",
    "        xml_df = xml_to_csv(image_path)\n",
    "        xml_df.to_csv('./data/{}.csv'.format(directory), index=None)\n",
    "        print('Successfully converted xml to csv.')\n",
    "\n",
    "\n",
    "main()"
   ]
  }
 ],
 "metadata": {
  "kernelspec": {
   "display_name": "Python 3",
   "language": "python",
   "name": "python3"
  },
  "language_info": {
   "codemirror_mode": {
    "name": "ipython",
    "version": 3
   },
   "file_extension": ".py",
   "mimetype": "text/x-python",
   "name": "python",
   "nbconvert_exporter": "python",
   "pygments_lexer": "ipython3",
   "version": "3.6.3"
  }
 },
 "nbformat": 4,
 "nbformat_minor": 2
}
